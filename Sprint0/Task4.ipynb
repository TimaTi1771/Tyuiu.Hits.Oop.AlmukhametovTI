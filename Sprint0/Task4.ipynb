{
 "cells": [
  {
   "cell_type": "markdown",
   "metadata": {},
   "source": [
    "<h1 style=\"color:DodgerBlue\">Индивидальный проект</h1>"
   ]
  },
  {
   "cell_type": "markdown",
   "metadata": {},
   "source": [
    "<h2 style=\"color:DodgerBlue\">Название проекта:</h2>\n",
    "\n",
    "----\n",
    "\n",
    "### Вариант задания № 19\n"
   ]
  },
  {
   "cell_type": "markdown",
   "metadata": {},
   "source": [
    "<h2 style=\"color:DodgerBlue\">Описание проекта:</h2>\n",
    "\n",
    "----\n",
    "\n",
    "Создать базовый класс Subscription в C#, который будет представлять подписки на\n",
    "различные услуги. На основе этого класса разработать 2-3 производных класса,\n",
    "демонстрирующих принципы наследования и полиморфизма. В каждом из классов\n",
    "должны быть реализованы новые атрибуты и методы, а также переопределены\n",
    "некоторые методы базового класса для демонстрации полиморфизма.\n",
    "\n",
    "Требования к базовому классу Subscription:\n",
    "• Атрибуты: ID подписки (SubscriptionId), Название услуги (ServiceName),\n",
    "Стоимость подписки (Cost).\n",
    "• Методы:\n",
    "o CalculateMonthlyCost(): метод для расчета ежемесячной стоимости\n",
    "подписки.\n",
    "o ExtendSubscription(): метод для продления подписки на\n",
    "дополнительный период.\n",
    "o GetSubscriptionDetails(): метод для получения деталей подписки.\n",
    "Требования к производным классам:\n",
    "1. ПодпискаНаОнлайнСервис (OnlineServiceSubscription): Должна содержать\n",
    "дополнительные атрибуты, такие как Количество доступных пользователей\n",
    "(MaxUsers). Метод CalculateMonthlyCost() должен быть переопределен для\n",
    "учета количества пользователей при расчете стоимости.\n",
    "2. ПодпискаНаСтreamинг (StreamingSubscription): Должна содержать\n",
    "дополнительные атрибуты, такие как Количество одновременных потоков\n",
    "(MaxStreams). Метод ExtendSubscription() должен быть переопределен для\n",
    "добавления специальных предложений для продления подписки.\n",
    "3. ПодпискаНаВидео(VideoSubscription) (если требуется третий класс): Должна\n",
    "содержать дополнительные атрибуты, такие как Качество видео\n",
    "(VideoQuality). Метод GetSubscriptionDetails() должен быть переопределен\n",
    "для отображения качества видео вместе с другими деталями подписки.\n"
   ]
  },
  {
   "cell_type": "markdown",
   "metadata": {},
   "source": [
    "<h2 style=\"color:DodgerBlue\">Реализация:</h2>\n",
    "\n",
    "----"
   ]
  },
  {
   "cell_type": "code",
   "execution_count": 2,
   "metadata": {
    "dotnet_interactive": {
     "language": "csharp"
    },
    "polyglot_notebook": {
     "kernelName": "csharp"
    }
   },
   "outputs": [
    {
     "name": "stdout",
     "output_type": "stream",
     "text": [
      "Привет! Моё имя Андрей.\n",
      "Имя: Андрей, Возраст: 30, Пол: Мужской\n",
      "\n",
      "Привет! Моё имя Алиса, я учусь на 2 курсе в Гарварде.\n",
      "Имя: Алиса, Возраст: 20, Пол: Женский, Университет: Гарварде, Курс: 2\n",
      "\n",
      "Привет! Моё имя Ольга.\n",
      "Имя: Ольга, Возраст: 40, Пол: Женский, Компания: Google, Зарплата: ¤80,000.00\n",
      "\n",
      "Привет! Моё имя Доктор Смит, и я преподаю Математику  25 лет.\n",
      "Имя: Доктор Смит, Возраст: 50, Пол: Мужской, Предмет: Математику, Опыт: 25 лет\n",
      "\n"
     ]
    }
   ],
   "source": [
    "using System;\n",
    "\n",
    "// Базовый класс Person\n",
    "class Person\n",
    "{\n",
    "    public string Name { get; set; }\n",
    "    public int Age { get; set; }\n",
    "    public string Gender { get; set; }\n",
    "\n",
    "    public Person(string name, int age, string gender)\n",
    "    {\n",
    "        Name = name;\n",
    "        Age = age;\n",
    "        Gender = gender;\n",
    "    }\n",
    "\n",
    "    // Метод для получения информации о человеке\n",
    "    public virtual string GetInfo()\n",
    "    {\n",
    "        return $\"Имя: {Name}, Возраст: {Age}, Пол: {Gender}\";\n",
    "    }\n",
    "\n",
    "    // Метод для приветствия\n",
    "    public virtual void SayHello()\n",
    "    {\n",
    "        Console.WriteLine($\"Привет! Моё имя {Name}.\");\n",
    "    }\n",
    "}\n",
    "\n",
    "// Производный класс Student\n",
    "class Student : Person\n",
    "{\n",
    "    public string University { get; set; }\n",
    "    public int Course { get; set; }\n",
    "\n",
    "    public Student(string name, int age, string gender, string university, int course)\n",
    "        : base(name, age, gender)\n",
    "    {\n",
    "        University = university;\n",
    "        Course = course;\n",
    "    }\n",
    "\n",
    "    // Переопределение метода SayHello для студента\n",
    "    public override void SayHello()\n",
    "    {\n",
    "        Console.WriteLine($\"Привет! Моё имя {Name}, я учусь на {Course} курсе в {University}.\");\n",
    "    }\n",
    "\n",
    "    // Переопределение метода GetInfo для студента\n",
    "    public override string GetInfo()\n",
    "    {\n",
    "        return base.GetInfo() + $\", Университет: {University}, Курс: {Course}\";\n",
    "    }\n",
    "}\n",
    "\n",
    "// Производный класс Employee\n",
    "class Employee : Person\n",
    "{\n",
    "    public string Company { get; set; }\n",
    "    public double Salary { get; set; }\n",
    "\n",
    "    public Employee(string name, int age, string gender, string company, double salary)\n",
    "        : base(name, age, gender)\n",
    "    {\n",
    "        Company = company;\n",
    "        Salary = salary;\n",
    "    }\n",
    "\n",
    "    // Переопределение метода GetInfo для работника\n",
    "    public override string GetInfo()\n",
    "    {\n",
    "        return base.GetInfo() + $\", Компания: {Company}, Зарплата: {Salary:C}\";\n",
    "    }\n",
    "\n",
    "    // Метод SayHello без изменений (использует метод базового класса)\n",
    "}\n",
    "\n",
    "// Производный класс Teacher\n",
    "class Teacher : Person\n",
    "{\n",
    "    public string Subject { get; set; }\n",
    "    public int Experience { get; set; }\n",
    "\n",
    "    public Teacher(string name, int age, string gender, string subject, int experience)\n",
    "        : base(name, age, gender)\n",
    "    {\n",
    "        Subject = subject;\n",
    "        Experience = experience;\n",
    "    }\n",
    "\n",
    "    // Переопределение метода SayHello для преподавателя\n",
    "    public override void SayHello()\n",
    "    {\n",
    "        Console.WriteLine($\"Привет! Моё имя {Name}, и я преподаю {Subject}  {Experience} лет.\");\n",
    "    }\n",
    "\n",
    "    // Переопределение метода GetInfo для преподавателя\n",
    "    public override string GetInfo()\n",
    "    {\n",
    "        return base.GetInfo() + $\", Предмет: {Subject}, Опыт: {Experience} лет\";\n",
    "    }\n",
    "}\n",
    "\n",
    "\n",
    "        // Создание объектов разных классов\n",
    "        Person person = new Person(\"Андрей\", 30, \"Мужской\");\n",
    "        Student student = new Student(\"Алиса\", 20, \"Женский\", \"Гарварде\", 2);\n",
    "        Employee employee = new Employee(\"Ольга\", 40, \"Женский\", \"Google\", 80000);\n",
    "        Teacher teacher = new Teacher(\"Доктор Смит\", 50, \"Мужской\", \"Математику\", 25);\n",
    "\n",
    "        // Демонстрация полиморфизма\n",
    "        Person[] people = { person, student, employee, teacher };\n",
    "\n",
    "        foreach (var p in people)\n",
    "        {\n",
    "            p.SayHello();\n",
    "            Console.WriteLine(p.GetInfo());\n",
    "            Console.WriteLine();\n",
    "        }\n",
    "    \n"
   ]
  }
 ],
 "metadata": {
  "kernelspec": {
   "display_name": ".NET (C#)",
   "language": "C#",
   "name": ".net-csharp"
  },
  "polyglot_notebook": {
   "kernelInfo": {
    "defaultKernelName": "csharp",
    "items": [
     {
      "aliases": [],
      "languageName": "csharp",
      "name": "csharp"
     }
    ]
   }
  }
 },
 "nbformat": 4,
 "nbformat_minor": 2
}
