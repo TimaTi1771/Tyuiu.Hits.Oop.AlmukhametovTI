{
 "cells": [
  {
   "cell_type": "markdown",
   "metadata": {},
   "source": [
    "<h1 style=\"color:DodgerBlue\">Индивидальный проект</h1>"
   ]
  },
  {
   "cell_type": "markdown",
   "metadata": {},
   "source": [
    "<h2 style=\"color:DodgerBlue\">Название проекта:</h2>\n",
    "\n",
    "----\n",
    "\n",
    "### Вариант задания № 1\n"
   ]
  },
  {
   "cell_type": "markdown",
   "metadata": {},
   "source": [
    "<h2 style=\"color:DodgerBlue\">Описание проекта:</h2>\n",
    "\n",
    "----\n",
    "\n",
    "Описание задачи:\n",
    "Создать базовый класс Person в C#, который будет представлять информацию о\n",
    "человеке. На основе этого класса разработать 2-3 производных класса,\n",
    "демонстрирующих принципы наследования и полиморфизма. В каждом из классов\n",
    "должны быть реализованы новые атрибуты и методы, а также переопределены\n",
    "некоторые методы базового класса для демонстрации полиморфизма.\n",
    "Требования к базовому классу Person:\n",
    "• Атрибуты: Имя (Name), Возраст (Age), Пол (Gender).\n",
    "• Методы:\n",
    "o GetInfo(): метод для получения информации о человеке в виде строки.\n",
    "o SayHello(): метод для вывода приветствия от человека.\n",
    "Требования к производным классам:\n",
    "1. Студент (Student): Должен содержать дополнительные атрибуты, такие как\n",
    "Университет (University) и Курс (Course). Метод SayHello() должен быть\n",
    "переопределен для добавления информации о курсе при приветствии.\n",
    "2. Работник (Employee): Должен содержать дополнительные атрибуты, такие\n",
    "как Компания (Company) и Зарплата (Salary). Метод GetInfo() должен быть\n",
    "переопределен для включения информации о компании и зарплате.\n",
    "3. Преподаватель (Teacher) (если требуется третий класс): Должен содержать\n",
    "дополнительные атрибуты, такие как Предмет (Subject) и Стаж работы\n",
    "(Experience). Метод SayHello() должен быть переопределен для добавления\n",
    "информации о преподаваемом предмете при приветствии.\n"
   ]
  },
  {
   "cell_type": "markdown",
   "metadata": {},
   "source": [
    "<h2 style=\"color:DodgerBlue\">Реализация:</h2>\n",
    "\n",
    "----"
   ]
  },
  {
   "cell_type": "code",
   "execution_count": 2,
   "metadata": {
    "dotnet_interactive": {
     "language": "csharp"
    },
    "polyglot_notebook": {
     "kernelName": "csharp"
    }
   },
   "outputs": [
    {
     "ename": "Error",
     "evalue": "(33,23): error CS0535: 'Person' does not implement interface member 'IPerson.GetInfo()'\r\n(33,23): error CS0535: 'Person' does not implement interface member 'IPerson.ISayHello()'\r\n(52,48): error CS0103: The name 'Title' does not exist in the current context\r\n(61,13): error CS0103: The name 'Rating' does not exist in the current context\r\n(62,54): error CS0103: The name 'Title' does not exist in the current context\r\n(62,69): error CS0103: The name 'Rating' does not exist in the current context",
     "output_type": "error",
     "traceback": [
      "(33,23): error CS0535: 'Person' does not implement interface member 'IPerson.GetInfo()'\r\n",
      "(33,23): error CS0535: 'Person' does not implement interface member 'IPerson.ISayHello()'\r\n",
      "(52,48): error CS0103: The name 'Title' does not exist in the current context\r\n",
      "(61,13): error CS0103: The name 'Rating' does not exist in the current context\r\n",
      "(62,54): error CS0103: The name 'Title' does not exist in the current context\r\n",
      "(62,69): error CS0103: The name 'Rating' does not exist in the current context"
     ]
    }
   ],
   "source": [
    "\n",
    " using System;\n",
    "\n",
    "public interface IPerson {\n",
    "\n",
    "    string Name {get; set; }\n",
    "    int Age {get; set; }\n",
    "    string Gender {get; set; }\n",
    "    \n",
    "\n",
    "    void GetInfo();\n",
    "    void SayHello();\n",
    "    void ISayHello();\n",
    "    \n",
    "    \n",
    "}\n",
    "\n",
    "public interface IStudent {\n",
    "    string University {get; set ; }\n",
    "    string Course {get; set ;}\n",
    "}\n",
    "\n",
    "public interface IEmployee {\n",
    "    string Company {get; set ; }\n",
    "    string Salary {get; set ;}\n",
    "}\n",
    "\n",
    "public interface ITeacher {\n",
    "    string Subject {get; set; }\n",
    "    string Experience {get; set ;}\n",
    "}\n",
    "\n",
    "public class Person : IPerson {\n",
    "\n",
    "    public string Name {get; set; }\n",
    "    public int Age {get; set; }\n",
    "    public string Gender {get; set; }\n",
    "\n",
    "\n",
    "    public Person(string name, int age, string gender) {\n",
    "        Name = name;\n",
    "        Age = age;\n",
    "        Gender = gender;\n",
    "        \n",
    "    }\n",
    "\n",
    "    public virtual void SayHello() {\n",
    "         Console.WriteLine($\"Привет! Меня зовут {Name}.\");\n",
    "    }\n",
    "\n",
    "    public virtual void GetInfo() {\n",
    "        Console.WriteLine($\"Вы работаете в комании {Title}, и получаете \");\n",
    "    }\n",
    "\n",
    "    public virtual void Rate(double rating) {\n",
    "\n",
    "        if (rating < 0 || rating > 5) {\n",
    "            Console.WriteLine(\"Оценка в диапазоне от 0 до 5\");\n",
    "        }\n",
    "        else {\n",
    "            Rating = rating;\n",
    "            Console.WriteLine($\"Вы поставили фильму {Title} оценку {Rating}\");\n",
    "        }\n",
    "    }\n",
    "}\n",
    "\n",
    "public class Documentary : Movie, IDocumentary {\n",
    "\n",
    "    public string Theme {get; set; }\n",
    "\n",
    "    public Documentary(string title, string director, string releaseYear, string theme, double rating)\n",
    "        : base(title, director, releaseYear, rating) \n",
    "        {\n",
    "            Theme = theme;\n",
    "        }\n",
    "\n",
    "    public override void Watch() {\n",
    "        Console.WriteLine($\"Вы смотрите фильм {Title} на тему {Theme}\");\n",
    "    }\n",
    "\n",
    "}\n",
    "\n",
    "public class FeatureFilm : Movie, IFeatureFilm {\n",
    "\n",
    "    public string Genre {get; set; }\n",
    "\n",
    "    public FeatureFilm(string title, string director, string releaseYear, string genre, double rating)\n",
    "        : base(title, director, releaseYear, rating)\n",
    "    {\n",
    "        Genre = genre;\n",
    "    }\n",
    "\n",
    "    public override void Rate(double rating) {\n",
    "\n",
    "        base.Rate(rating);\n",
    "        switch (Genre.ToLower())\n",
    "        {\n",
    "            case \"драма\":\n",
    "            Console.WriteLine($\"Фильм {Title} получил высокую оценку за эмоциональную глубину\");\n",
    "            break;\n",
    "\n",
    "            case \"комедия\":\n",
    "            Console.WriteLine($\"Фильм {Title} получил оценку за юмористические моменты\");\n",
    "            break;\n",
    "        }\n",
    "    }\n",
    "}\n",
    "\n",
    "public class AnimatedMovie : Movie, IAnimatedMovie {\n",
    "\n",
    "    public string AnimationStudio {get; set; }\n",
    "\n",
    "    public AnimatedMovie(string title, string director, string releaseYear, string animationStudio, double rating)\n",
    "        : base(title, director, releaseYear, rating)\n",
    "    {\n",
    "        AnimationStudio = animationStudio;\n",
    "    }\n",
    "\n",
    "    public override void GetInfo() {\n",
    "        Console.WriteLine($\"Название: {Title}, Режиссер: {Director}, Год выпуска: {ReleaseYear}, Студия анимации: {AnimationStudio}\");\n",
    "    }\n",
    "}\n",
    "\n"
   ]
  }
 ],
 "metadata": {
  "kernelspec": {
   "display_name": ".NET (C#)",
   "language": "C#",
   "name": ".net-csharp"
  },
  "polyglot_notebook": {
   "kernelInfo": {
    "defaultKernelName": "csharp",
    "items": [
     {
      "aliases": [],
      "languageName": "csharp",
      "name": "csharp"
     }
    ]
   }
  }
 },
 "nbformat": 4,
 "nbformat_minor": 2
}
